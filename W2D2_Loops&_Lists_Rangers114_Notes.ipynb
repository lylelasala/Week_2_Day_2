{
 "cells": [
  {
   "cell_type": "markdown",
   "metadata": {},
   "source": [
    "# Functions, Scoping, Data Collections 1 & List Comprehensions"
   ]
  },
  {
   "cell_type": "markdown",
   "metadata": {},
   "source": [
    "## Tasks Today:\n",
    "\n",
    "<i>Monday Additions (for loops)</i>\n",
    "\n",
    "1) For Loops <br>\n",
    " &nbsp;&nbsp;&nbsp;&nbsp; a) Using 'in' keyword <br>\n",
    " &nbsp;&nbsp;&nbsp;&nbsp; b) Continue Statement <br>\n",
    " &nbsp;&nbsp;&nbsp;&nbsp; c) Break Statement <br>\n",
    " &nbsp;&nbsp;&nbsp;&nbsp; d) Pass Statement <br>\n",
    " &nbsp;&nbsp;&nbsp;&nbsp; e) Double For Loops <br>\n",
    "2) While Loops <br>\n",
    " &nbsp;&nbsp;&nbsp;&nbsp; a) Looping 'While True' <br>\n",
    " &nbsp;&nbsp;&nbsp;&nbsp; b) While and For Loops Used Together <br>\n",
    " \n",
    "3) Lists <br>\n",
    " &nbsp;&nbsp;&nbsp;&nbsp; a) Declaring Lists <br>\n",
    " &nbsp;&nbsp;&nbsp;&nbsp; b) Indexing a List <br>\n",
    " &nbsp;&nbsp;&nbsp;&nbsp; c) .append() <br>\n",
    " &nbsp;&nbsp;&nbsp;&nbsp; d) .insert() <br>\n",
    " &nbsp;&nbsp;&nbsp;&nbsp; e) .pop() <br>\n",
    " &nbsp;&nbsp;&nbsp;&nbsp; f) .remove() <br>\n",
    " &nbsp;&nbsp;&nbsp;&nbsp; g) del() <br>\n",
    " &nbsp;&nbsp;&nbsp;&nbsp; h) Concatenating Two Lists <br>\n",
    " &nbsp;&nbsp;&nbsp;&nbsp; i) Lists Within Lists <br>\n",
    " &nbsp;&nbsp;&nbsp;&nbsp; j) Looping Through Lists <br>\n",
    "4) Working With Lists <br>\n",
    " &nbsp;&nbsp;&nbsp;&nbsp; a) min() <br>\n",
    " &nbsp;&nbsp;&nbsp;&nbsp; b) max() <br>\n",
    " &nbsp;&nbsp;&nbsp;&nbsp; c) sum() <br>\n",
    " &nbsp;&nbsp;&nbsp;&nbsp; d) sort() <br>\n",
    " &nbsp;&nbsp;&nbsp;&nbsp; e) Copying a List <br>\n",
    " &nbsp;&nbsp;&nbsp;&nbsp; f) 'in' keyword <br>\n",
    " &nbsp;&nbsp;&nbsp;&nbsp; g) 'not in' keyword <br>\n",
    " &nbsp;&nbsp;&nbsp;&nbsp; i) Checking an Empty List <br>\n",
    " &nbsp;&nbsp;&nbsp;&nbsp; j) Removing Instances with a Loop <br> \n",
    "5) List Comprehensions <br>\n",
    "6) Tuples <br>\n",
    " &nbsp;&nbsp;&nbsp;&nbsp; a) sorted() <br>\n"
   ]
  },
  {
   "cell_type": "markdown",
   "metadata": {},
   "source": [
    "### For Loops"
   ]
  },
  {
   "cell_type": "code",
   "execution_count": 6,
   "metadata": {},
   "outputs": [
    {
     "ename": "IndexError",
     "evalue": "string index out of range",
     "output_type": "error",
     "traceback": [
      "\u001b[1;31m---------------------------------------------------------------------------\u001b[0m",
      "\u001b[1;31mIndexError\u001b[0m                                Traceback (most recent call last)",
      "Cell \u001b[1;32mIn[6], line 14\u001b[0m\n\u001b[0;32m      6\u001b[0m name \u001b[38;5;241m=\u001b[39m \u001b[38;5;124m\"\u001b[39m\u001b[38;5;124mLyle\u001b[39m\u001b[38;5;124m\"\u001b[39m\n\u001b[0;32m      7\u001b[0m \u001b[38;5;66;03m# for letter in name:\u001b[39;00m\n\u001b[0;32m      8\u001b[0m \u001b[38;5;66;03m#     print(letter)\u001b[39;00m\n\u001b[0;32m      9\u001b[0m \n\u001b[0;32m     10\u001b[0m \u001b[38;5;66;03m# print(len(name))\u001b[39;00m\n\u001b[0;32m     11\u001b[0m \u001b[38;5;66;03m# for i in range(len(name)):\u001b[39;00m\n\u001b[0;32m     12\u001b[0m \u001b[38;5;66;03m#     print(name[i])\u001b[39;00m\n\u001b[1;32m---> 14\u001b[0m \u001b[38;5;28mprint\u001b[39m(\u001b[43mname\u001b[49m\u001b[43m[\u001b[49m\u001b[38;5;241;43m4\u001b[39;49m\u001b[43m]\u001b[49m)\n",
      "\u001b[1;31mIndexError\u001b[0m: string index out of range"
     ]
    }
   ],
   "source": [
    "# for keyword, counter/iterator, in keyword, object\n",
    "\n",
    "# for i in range(10):\n",
    "#     print(i)\n",
    "    \n",
    "name = \"Lyle\"\n",
    "# for letter in name:\n",
    "#     print(letter)\n",
    "\n",
    "# print(len(name))\n",
    "# for i in range(len(name)):\n",
    "#     print(name[i])\n",
    "\n",
    "print(name[4])\n",
    "\n",
    "    \n"
   ]
  },
  {
   "cell_type": "markdown",
   "metadata": {},
   "source": [
    "##### Using 'in' keyword"
   ]
  },
  {
   "cell_type": "code",
   "execution_count": 2,
   "metadata": {},
   "outputs": [
    {
     "name": "stdout",
     "output_type": "stream",
     "text": [
      "0\n",
      "1\n",
      "4\n",
      "9\n",
      "16\n",
      "25\n",
      "36\n",
      "49\n",
      "64\n",
      "81\n",
      "100\n",
      "121\n",
      "144\n",
      "169\n",
      "196\n"
     ]
    }
   ],
   "source": [
    "#in is what accesses the items in an iterable\n",
    "for i in range(15):\n",
    "    print(i**2)"
   ]
  },
  {
   "cell_type": "markdown",
   "metadata": {},
   "source": [
    "##### Continue Statement"
   ]
  },
  {
   "cell_type": "code",
   "execution_count": 1,
   "metadata": {},
   "outputs": [
    {
     "name": "stdout",
     "output_type": "stream",
     "text": [
      "0\n",
      "1\n",
      "2\n",
      "3\n",
      "4\n",
      "5\n",
      "6\n",
      "7\n",
      "8\n",
      "9\n",
      "10\n",
      "11\n",
      "12\n",
      "13\n",
      "14\n",
      "15\n",
      "16\n",
      "17\n",
      "18\n",
      "19\n",
      "0\n",
      "1\n",
      "2\n",
      "3\n",
      "4\n",
      "7\n",
      "8\n",
      "9\n",
      "10\n",
      "11\n",
      "12\n",
      "13\n",
      "14\n",
      "15\n",
      "16\n",
      "17\n",
      "18\n",
      "19\n"
     ]
    }
   ],
   "source": [
    "for i in range(20):\n",
    "    print(i)\n",
    "    \n",
    "#will continue to the next iteration\n",
    "for i in range(20):\n",
    "    if i == 5 or i == 6:\n",
    "        continue\n",
    "    print(i)\n",
    "\n"
   ]
  },
  {
   "cell_type": "markdown",
   "metadata": {},
   "source": [
    "##### Break Statement"
   ]
  },
  {
   "cell_type": "code",
   "execution_count": 1,
   "metadata": {},
   "outputs": [],
   "source": [
    "#stops the Loop from iterating if a certain condition is met\n",
    "for i in range(20):\n",
    "    if i -- 6:\n",
    "        break\n",
    "    print(1)\n",
    "    "
   ]
  },
  {
   "cell_type": "markdown",
   "metadata": {},
   "source": [
    "##### Pass Statement"
   ]
  },
  {
   "cell_type": "code",
   "execution_count": null,
   "metadata": {},
   "outputs": [],
   "source": [
    "#mostly used as a placeholder\n",
    "\n",
    "for i in range(20)\n",
    "    pass\n",
    "\n",
    "word = \"midi keyboard\"\n",
    "\n"
   ]
  },
  {
   "cell_type": "markdown",
   "metadata": {},
   "source": [
    "##### Double For Loops"
   ]
  },
  {
   "cell_type": "code",
   "execution_count": 3,
   "metadata": {},
   "outputs": [
    {
     "name": "stdout",
     "output_type": "stream",
     "text": [
      "i =  0 j =  0\n",
      "i =  0 j =  1\n",
      "i =  0 j =  2\n",
      "i =  0 j =  3\n",
      "i =  0 j =  4\n",
      "i =  1 j =  0\n",
      "i =  1 j =  1\n",
      "i =  1 j =  2\n",
      "i =  1 j =  3\n",
      "i =  1 j =  4\n",
      "i =  2 j =  0\n",
      "i =  2 j =  1\n",
      "i =  2 j =  2\n",
      "i =  2 j =  3\n",
      "i =  2 j =  4\n",
      "i =  3 j =  0\n",
      "i =  3 j =  1\n",
      "i =  3 j =  2\n",
      "i =  3 j =  3\n",
      "i =  3 j =  4\n",
      "i =  4 j =  0\n",
      "i =  4 j =  1\n",
      "i =  4 j =  2\n",
      "i =  4 j =  3\n",
      "i =  4 j =  4\n"
     ]
    }
   ],
   "source": []
  },
  {
   "cell_type": "code",
   "execution_count": 26,
   "metadata": {},
   "outputs": [
    {
     "name": "stdout",
     "output_type": "stream",
     "text": [
      "1 =  0 j =  0\n",
      "1 =  0 j =  1\n",
      "1 =  0 j =  2\n",
      "1 =  0 j =  3\n",
      "1 =  0 j =  4\n",
      "1 =  1 j =  0\n",
      "1 =  1 j =  1\n",
      "1 =  1 j =  2\n",
      "1 =  1 j =  3\n",
      "1 =  1 j =  4\n",
      "1 =  2 j =  0\n",
      "1 =  2 j =  1\n",
      "1 =  2 j =  2\n",
      "1 =  2 j =  3\n",
      "1 =  2 j =  4\n",
      "1 =  3 j =  0\n",
      "1 =  3 j =  1\n",
      "1 =  3 j =  2\n",
      "1 =  3 j =  3\n",
      "1 =  3 j =  4\n",
      "1 =  4 j =  0\n",
      "1 =  4 j =  1\n",
      "1 =  4 j =  2\n",
      "1 =  4 j =  3\n",
      "1 =  4 j =  4\n"
     ]
    }
   ],
   "source": [
    "for i in range(5):\n",
    "    for j in range(5):\n",
    "        print(\"1 = \", i, \"j = \", j)"
   ]
  },
  {
   "cell_type": "code",
   "execution_count": null,
   "metadata": {},
   "outputs": [],
   "source": []
  },
  {
   "cell_type": "code",
   "execution_count": null,
   "metadata": {
    "scrolled": true
   },
   "outputs": [],
   "source": []
  },
  {
   "cell_type": "code",
   "execution_count": null,
   "metadata": {},
   "outputs": [],
   "source": []
  },
  {
   "cell_type": "markdown",
   "metadata": {},
   "source": [
    "### While Loops"
   ]
  },
  {
   "cell_type": "code",
   "execution_count": 3,
   "metadata": {},
   "outputs": [
    {
     "name": "stdout",
     "output_type": "stream",
     "text": [
      "1\n",
      "2\n",
      "3\n",
      "4\n",
      "5\n",
      "6\n",
      "7\n",
      "8\n",
      "9\n",
      "10\n",
      "11\n"
     ]
    }
   ],
   "source": [
    "#while keyword, condition\n",
    "#while loop will run based on the codition statement\n",
    "\n",
    "counter = 0\n",
    "\n",
    "while counter < 11:\n",
    "    counter += 1\n",
    "    print(counter)"
   ]
  },
  {
   "cell_type": "code",
   "execution_count": 2,
   "metadata": {},
   "outputs": [
    {
     "name": "stdout",
     "output_type": "stream",
     "text": [
      "\n",
      "\n",
      "0\n",
      "1\n",
      "4\n",
      "9\n",
      "16\n",
      "25\n",
      "36\n",
      "49\n",
      "64\n",
      "81\n",
      "100\n",
      "121\n",
      "144\n",
      "169\n",
      "196\n"
     ]
    }
   ],
   "source": [
    "print(\"\\n\")\n",
    "\n",
    "num = 0\n",
    "while num < 15:\n",
    "    print(num**2)\n",
    "    num+=1"
   ]
  },
  {
   "cell_type": "code",
   "execution_count": 1,
   "metadata": {},
   "outputs": [
    {
     "ename": "NameError",
     "evalue": "name 'num' is not defined",
     "output_type": "error",
     "traceback": [
      "\u001b[1;31m---------------------------------------------------------------------------\u001b[0m",
      "\u001b[1;31mNameError\u001b[0m                                 Traceback (most recent call last)",
      "Cell \u001b[1;32mIn[1], line 6\u001b[0m\n\u001b[0;32m      2\u001b[0m num1 \u001b[38;5;241m=\u001b[39m \u001b[38;5;241m0\u001b[39m\n\u001b[0;32m      4\u001b[0m \u001b[38;5;28;01mwhile\u001b[39;00m num1 \u001b[38;5;241m<\u001b[39m \u001b[38;5;241m15\u001b[39m:\n\u001b[1;32m----> 6\u001b[0m     \u001b[43mnum\u001b[49m \u001b[38;5;241m+\u001b[39m\u001b[38;5;241m-\u001b[39m\u001b[38;5;241m1\u001b[39m\n\u001b[0;32m      7\u001b[0m     \u001b[38;5;28;01mif\u001b[39;00m num \u001b[38;5;241m-\u001b[39m\u001b[38;5;241m-\u001b[39m \u001b[38;5;241m7\u001b[39m:\n\u001b[0;32m      8\u001b[0m         \u001b[38;5;28;01mbreak\u001b[39;00m\n",
      "\u001b[1;31mNameError\u001b[0m: name 'num' is not defined"
     ]
    }
   ],
   "source": [
    "#breaks with while loop\n",
    "num1 = 0\n",
    "\n",
    "while num1 < 15:\n",
    "    \n",
    "    num +-1\n",
    "    if num -- 7:\n",
    "        break\n",
    "    print(num1)"
   ]
  },
  {
   "cell_type": "code",
   "execution_count": null,
   "metadata": {},
   "outputs": [],
   "source": []
  },
  {
   "cell_type": "markdown",
   "metadata": {},
   "source": [
    "##### looping 'While True'"
   ]
  },
  {
   "cell_type": "code",
   "execution_count": 1,
   "metadata": {},
   "outputs": [
    {
     "name": "stdout",
     "output_type": "stream",
     "text": [
      "Infinite Loop\n"
     ]
    }
   ],
   "source": [
    "# true as a condition for a while loop to run\n",
    "game_over = False\n",
    "while True:\n",
    "    print(\"Infinite Loop\")\n",
    "    if game_over == False:\n",
    "        break"
   ]
  },
  {
   "cell_type": "code",
   "execution_count": 1,
   "metadata": {},
   "outputs": [
    {
     "name": "stdout",
     "output_type": "stream",
     "text": [
      "checking num\n"
     ]
    }
   ],
   "source": [
    "game_running = True\n",
    "num = 7\n",
    "while game_running:\n",
    "    print(\"checking num\")\n",
    "    if num == 7:\n",
    "        game_running = False"
   ]
  },
  {
   "cell_type": "code",
   "execution_count": null,
   "metadata": {},
   "outputs": [],
   "source": [
    "while True:\n",
    "    name = input ('what is your name?')\n",
    "    if name == '':\n",
    "        print ('thats empty please enter a name')\n",
    "    else:\n",
    "        print(name)\n",
    "        break"
   ]
  },
  {
   "cell_type": "markdown",
   "metadata": {},
   "source": [
    "##### While & For Loops Used Together"
   ]
  },
  {
   "cell_type": "code",
   "execution_count": 1,
   "metadata": {},
   "outputs": [
    {
     "name": "stdout",
     "output_type": "stream",
     "text": [
      "\n",
      "While Loop Iteration: 0\n",
      "For loop iteration: 0\n",
      "For loop iteration: 1\n",
      "For loop iteration: 2\n",
      "For loop iteration: 3\n",
      "\n",
      "While Loop Iteration: 1\n",
      "For loop iteration: 0\n",
      "For loop iteration: 1\n",
      "For loop iteration: 2\n",
      "For loop iteration: 3\n",
      "\n",
      "While Loop Iteration: 2\n",
      "For loop iteration: 0\n",
      "For loop iteration: 1\n",
      "For loop iteration: 2\n",
      "For loop iteration: 3\n",
      "\n",
      "While Loop Iteration: 3\n",
      "For loop iteration: 0\n",
      "For loop iteration: 1\n",
      "For loop iteration: 2\n",
      "For loop iteration: 3\n",
      "\n",
      "While Loop Iteration: 4\n",
      "For loop iteration: 0\n",
      "For loop iteration: 1\n",
      "For loop iteration: 2\n",
      "For loop iteration: 3\n",
      "\n",
      "While Loop Iteration: 5\n",
      "For loop iteration: 0\n",
      "For loop iteration: 1\n",
      "For loop iteration: 2\n",
      "For loop iteration: 3\n",
      "\n",
      "While Loop Iteration: 6\n",
      "For loop iteration: 0\n",
      "For loop iteration: 1\n",
      "For loop iteration: 2\n",
      "For loop iteration: 3\n",
      "\n",
      "While Loop Iteration: 7\n",
      "For loop iteration: 0\n",
      "For loop iteration: 1\n",
      "For loop iteration: 2\n",
      "For loop iteration: 3\n",
      "\n",
      "While Loop Iteration: 8\n",
      "For loop iteration: 0\n",
      "For loop iteration: 1\n",
      "For loop iteration: 2\n",
      "For loop iteration: 3\n",
      "\n",
      "While Loop Iteration: 9\n",
      "For loop iteration: 0\n",
      "For loop iteration: 1\n",
      "For loop iteration: 2\n",
      "For loop iteration: 3\n"
     ]
    }
   ],
   "source": [
    "j = 0\n",
    "\n",
    "while j < 10:\n",
    "    print(\"\\nWhile Loop Iteration: \" + str(j))\n",
    "    \n",
    "    for i in range(4):\n",
    "        print(\"For loop iteration: \" + str(i))\n",
    "        \n",
    "    j += 1"
   ]
  },
  {
   "cell_type": "markdown",
   "metadata": {},
   "source": [
    "##### The Range Function"
   ]
  },
  {
   "cell_type": "code",
   "execution_count": 5,
   "metadata": {},
   "outputs": [
    {
     "name": "stdout",
     "output_type": "stream",
     "text": [
      "0\n",
      "1\n",
      "2\n",
      "3\n",
      "4\n",
      "\n",
      "\n",
      "1\n",
      "2\n",
      "3\n",
      "4\n",
      "5\n",
      "6\n",
      "7\n",
      "8\n",
      "9\n"
     ]
    }
   ],
   "source": [
    "#range(start, stop, step) - stop is the only required parameter and is not inclusive\n",
    "# start will default to 0 if not provided\n",
    "# step will dafault to 1 if not provided\n",
    "\n",
    "#stop\n",
    "for i in range(5):\n",
    "    print(i)\n",
    "print(\"\\n\")    \n",
    "#restart, stop\n",
    "for i in range(1, 10):\n",
    "    print(i)\n"
   ]
  },
  {
   "cell_type": "markdown",
   "metadata": {},
   "source": [
    "### String Manipulation Exercise"
   ]
  },
  {
   "cell_type": "code",
   "execution_count": 3,
   "metadata": {},
   "outputs": [
    {
     "name": "stdout",
     "output_type": "stream",
     "text": [
      "Connor\n",
      "Max\n",
      "Evan\n",
      "Jordan\n"
     ]
    }
   ],
   "source": [
    "# loop through the list below and strip all white space and title case each string\n",
    "# print each corrected name\n",
    "names = ['    coNNor', 'max', ' EVan ', 'JORDAN']\n",
    "\n",
    "for name in names:\n",
    "    print(name.strip().title())\n"
   ]
  },
  {
   "cell_type": "code",
   "execution_count": 15,
   "metadata": {},
   "outputs": [
    {
     "name": "stdout",
     "output_type": "stream",
     "text": [
      "Connor\n",
      "Max\n",
      "Evan\n",
      "Jordan\n"
     ]
    }
   ],
   "source": []
  },
  {
   "cell_type": "code",
   "execution_count": 16,
   "metadata": {
    "scrolled": true
   },
   "outputs": [
    {
     "name": "stdout",
     "output_type": "stream",
     "text": [
      "Connor\n",
      "Max\n",
      "Evan\n",
      "Jordan\n",
      "['Connor', 'Max', 'Evan', 'Jordan']\n",
      "Connor\n",
      "Max\n",
      "Evan\n",
      "Jordan\n",
      "['Connor', 'Max', 'Evan', 'Jordan']\n"
     ]
    }
   ],
   "source": []
  },
  {
   "cell_type": "code",
   "execution_count": 17,
   "metadata": {},
   "outputs": [
    {
     "name": "stdout",
     "output_type": "stream",
     "text": [
      "Connor Max Evan Jordan None\n"
     ]
    }
   ],
   "source": []
  },
  {
   "cell_type": "markdown",
   "metadata": {},
   "source": [
    "## Lists"
   ]
  },
  {
   "cell_type": "markdown",
   "metadata": {},
   "source": [
    "##### Declaring Lists"
   ]
  },
  {
   "cell_type": "code",
   "execution_count": 5,
   "metadata": {},
   "outputs": [
    {
     "name": "stdout",
     "output_type": "stream",
     "text": [
      "['alex', 'lyle', 'chuck', 'manja', 'desiree']\n"
     ]
    }
   ],
   "source": [
    "#declaring an empty list\n",
    "our_list = [] #<-- empty list\n",
    "\n",
    "names = [\"alex\", \"lyle\", \"chuck\", \"manja\", \"desiree\"]\n",
    "\n",
    "numbers = [1, 2, 3, 4, 5, 6, 7]\n",
    "\n",
    "print(names)"
   ]
  },
  {
   "cell_type": "markdown",
   "metadata": {},
   "source": [
    "##### Indexing a List"
   ]
  },
  {
   "cell_type": "code",
   "execution_count": 11,
   "metadata": {},
   "outputs": [
    {
     "name": "stdout",
     "output_type": "stream",
     "text": [
      "chuck\n",
      "['lyle', 'chuck', 'manja', 'desiree']\n",
      "['lyle', 'chuck', 'manja', 'desiree']\n",
      "['alex', 'lyle']\n",
      "['lyle', 'manja']\n",
      "['lyle', 'manja']\n",
      "['desiree', 'manja', 'chuck', 'lyle', 'alex']\n"
     ]
    }
   ],
   "source": [
    "#[start:stop:step] -->[-1]\n",
    "#our_list[2]\n",
    "names = [\"alex\", \"lyle\", \"chuck\", \"manja\", \"desiree\"]\n",
    "\n",
    "#single index\n",
    "print(names[2])\n",
    "\n",
    "#print starting at index 1 and going to the end of the list\n",
    "print(names[1:])\n",
    "new_list = names [1:]\n",
    "print(new_list)\n",
    "\n",
    "#print starting at the beginning of the list and going up to the specified index\n",
    "print(names[:2])\n",
    "\n",
    "#print starting at index 1 and stepping by 2\n",
    "print(names[1::2])\n",
    "copy_list = names [1::2]\n",
    "print(copy_list)\n",
    "\n",
    "#reversing a list (starting at the back and printing every item going to the front)\n",
    "print(names[::-1])"
   ]
  },
  {
   "cell_type": "markdown",
   "metadata": {},
   "source": [
    "### List Methods"
   ]
  },
  {
   "cell_type": "markdown",
   "metadata": {},
   "source": [
    "##### .append()"
   ]
  },
  {
   "cell_type": "code",
   "execution_count": 12,
   "metadata": {},
   "outputs": [
    {
     "name": "stdout",
     "output_type": "stream",
     "text": [
      "['alex', 'lyle', 'chuck', 'manja', 'desiree', 'Ben']\n"
     ]
    }
   ],
   "source": [
    "#append add to the back of a list\n",
    "names = [\"alex\", \"lyle\", \"chuck\", \"manja\", \"desiree\"]\n",
    "\n",
    "names.append('Ben')\n",
    "print(names)"
   ]
  },
  {
   "cell_type": "code",
   "execution_count": 15,
   "metadata": {},
   "outputs": [
    {
     "name": "stdout",
     "output_type": "stream",
     "text": [
      "['Ben', 'desiree', 'manja']\n"
     ]
    }
   ],
   "source": [
    "print(names[:2:-1])"
   ]
  },
  {
   "cell_type": "code",
   "execution_count": 16,
   "metadata": {},
   "outputs": [
    {
     "name": "stdout",
     "output_type": "stream",
     "text": [
      "['alex', 'lyle', 'chuck', 'manja', 'desiree', 'Ben', 'Fabian']\n"
     ]
    }
   ],
   "source": [
    "names.append('Fabian')\n",
    "print(names)"
   ]
  },
  {
   "cell_type": "code",
   "execution_count": 17,
   "metadata": {
    "scrolled": true
   },
   "outputs": [
    {
     "name": "stdout",
     "output_type": "stream",
     "text": [
      "['Fabian', 'Ben']\n"
     ]
    }
   ],
   "source": [
    "print(names[:4:-1])"
   ]
  },
  {
   "cell_type": "code",
   "execution_count": 18,
   "metadata": {},
   "outputs": [
    {
     "name": "stdout",
     "output_type": "stream",
     "text": [
      "[1, 2, 3, 4, 5, 6, 12, 16, 28]\n"
     ]
    }
   ],
   "source": [
    "numbers = [1,2,3,4,5,6]\n",
    "\n",
    "numbers.append(12)\n",
    "numbers.append(16)\n",
    "numbers.append(28)\n",
    "\n",
    "print(numbers)"
   ]
  },
  {
   "cell_type": "code",
   "execution_count": 3,
   "metadata": {},
   "outputs": [
    {
     "name": "stdout",
     "output_type": "stream",
     "text": [
      "['Connor', 'Max', 'Evan', 'Jordan']\n"
     ]
    }
   ],
   "source": [
    "names = ['    coNNor', 'max', ' EVan ', 'JORDAN']\n",
    "\n",
    "title_list = []\n",
    "for name in names:\n",
    "    title_list.append(name.title().strip())\n",
    "    \n",
    "print(title_list)"
   ]
  },
  {
   "cell_type": "markdown",
   "metadata": {},
   "source": [
    "##### .insert()"
   ]
  },
  {
   "cell_type": "code",
   "execution_count": 4,
   "metadata": {},
   "outputs": [
    {
     "name": "stdout",
     "output_type": "stream",
     "text": [
      "['alex', 'lyle', 'chuck', 'Ryan', 'manja', 'desiree']\n"
     ]
    }
   ],
   "source": [
    "#takes in an index, and an element\n",
    "names = [\"alex\", \"lyle\", \"chuck\", \"manja\", \"desiree\"]\n",
    "\n",
    "names.insert(3, \"Ryan\")\n",
    "print(names)"
   ]
  },
  {
   "cell_type": "code",
   "execution_count": 6,
   "metadata": {},
   "outputs": [
    {
     "name": "stdout",
     "output_type": "stream",
     "text": [
      "[5, 6, 56, 1, 10, 11, 334, 12, 123]\n"
     ]
    }
   ],
   "source": [
    "new_data = [5, 6, 1, 10, 11, 334, 12, 123]\n",
    "new_data.insert(2,56)\n",
    "\n",
    "print(new_data)"
   ]
  },
  {
   "cell_type": "code",
   "execution_count": 7,
   "metadata": {
    "scrolled": true
   },
   "outputs": [
    {
     "name": "stdout",
     "output_type": "stream",
     "text": [
      "9\n",
      "range(0, 9)\n"
     ]
    }
   ],
   "source": [
    "print(len(new_data))\n",
    "print(range(len(new_data)))"
   ]
  },
  {
   "cell_type": "code",
   "execution_count": 1,
   "metadata": {},
   "outputs": [
    {
     "ename": "NameError",
     "evalue": "name 'new_data' is not defined",
     "output_type": "error",
     "traceback": [
      "\u001b[1;31m---------------------------------------------------------------------------\u001b[0m",
      "\u001b[1;31mNameError\u001b[0m                                 Traceback (most recent call last)",
      "Cell \u001b[1;32mIn[1], line 1\u001b[0m\n\u001b[1;32m----> 1\u001b[0m \u001b[38;5;28;01mfor\u001b[39;00m i \u001b[38;5;129;01min\u001b[39;00m \u001b[38;5;28mrange\u001b[39m(\u001b[38;5;28mlen\u001b[39m(\u001b[43mnew_data\u001b[49m)):\n\u001b[0;32m      2\u001b[0m     \u001b[38;5;28;01mif\u001b[39;00m i \u001b[38;5;241m==\u001b[39m \u001b[38;5;241m3\u001b[39m:\n\u001b[0;32m      3\u001b[0m         new_data\u001b[38;5;241m.\u001b[39minsert(i, names[i])\n",
      "\u001b[1;31mNameError\u001b[0m: name 'new_data' is not defined"
     ]
    }
   ],
   "source": [
    "for i in range(len(new_data)):\n",
    "    if i == 3:\n",
    "        new_data.insert(i, names[i])\n",
    "        \n",
    "print(new_data)"
   ]
  },
  {
   "cell_type": "markdown",
   "metadata": {},
   "source": [
    "##### .pop()"
   ]
  },
  {
   "cell_type": "code",
   "execution_count": 5,
   "metadata": {},
   "outputs": [
    {
     "name": "stdout",
     "output_type": "stream",
     "text": [
      "manja\n",
      "['desiree']\n"
     ]
    }
   ],
   "source": [
    "# pop will be default remove the last item in a list\n",
    "# otherwise it takes an index and will pop out the value at that index from the list\n",
    "names = [\"alex\", \"lyle\", \"chuck\", \"manja\", \"desiree\"]\n",
    "bye_bye_name = names.pop(3)\n",
    "print(bye_bye_name)\n",
    "\n",
    "other_list = []\n",
    "other_list.append(names.pop())\n",
    "print(other_list)"
   ]
  },
  {
   "cell_type": "code",
   "execution_count": 4,
   "metadata": {},
   "outputs": [
    {
     "name": "stdout",
     "output_type": "stream",
     "text": [
      "desiree\n"
     ]
    }
   ],
   "source": [
    "print(names.pop())"
   ]
  },
  {
   "cell_type": "markdown",
   "metadata": {},
   "source": [
    "##### .remove()"
   ]
  },
  {
   "cell_type": "code",
   "execution_count": 6,
   "metadata": {},
   "outputs": [
    {
     "name": "stdout",
     "output_type": "stream",
     "text": [
      "['bob', 'billy', 'berry', 'bertha', 'bob', 'bert']\n"
     ]
    }
   ],
   "source": [
    "names = ['bob', 'bob', 'billy', 'berry', 'bertha', 'bob', 'bert']\n",
    "\n",
    "\n",
    "\n",
    "print(names)"
   ]
  },
  {
   "cell_type": "code",
   "execution_count": 8,
   "metadata": {},
   "outputs": [
    {
     "name": "stdout",
     "output_type": "stream",
     "text": [
      "['billy', 'berry', 'bertha', 'bert']\n"
     ]
    }
   ],
   "source": [
    "names.remove('bob')\n",
    "\n",
    "print(names)"
   ]
  },
  {
   "cell_type": "code",
   "execution_count": 10,
   "metadata": {},
   "outputs": [
    {
     "name": "stdout",
     "output_type": "stream",
     "text": [
      "['billy', 'bon', 'berry', 'bertha', 'bert']\n"
     ]
    }
   ],
   "source": [
    "names = ['bob', 'billy', 'bob', 'bon', 'berry', 'bertha', 'bob', 'bert']\n",
    "for name in names:\n",
    "    if name == 'bob':\n",
    "        names.remove('bob')\n",
    "\n",
    "print(names)\n",
    "\n",
    "\n",
    "# for i in range(len(names)):\n",
    "# if names[i] == \"Bob\":\n",
    "# names.remove(names[i])\n",
    "#print(names)"
   ]
  },
  {
   "cell_type": "code",
   "execution_count": 13,
   "metadata": {},
   "outputs": [
    {
     "name": "stdout",
     "output_type": "stream",
     "text": [
      "['bob', 'billy', 'bob', 'bob', 'berry', 'bertha', 'bob', 'bert']\n",
      "['billy', 'berry', 'bertha', 'bert']\n"
     ]
    }
   ],
   "source": [
    "names = ['bob', 'billy', 'bob', 'bob', 'berry', 'bertha', 'bob', 'bert']\n",
    "print(names)\n",
    "while 'bob' in names:\n",
    "        names.remove('bob')\n",
    "\n",
    "print(names)\n",
    "\n",
    "\n",
    "# for i in range(len(names)):\n",
    "# if names[i] == \"Bob\":\n",
    "# names.remove(names[i])\n",
    "#print(names)"
   ]
  },
  {
   "cell_type": "markdown",
   "metadata": {},
   "source": [
    "### Working With Lists"
   ]
  },
  {
   "cell_type": "markdown",
   "metadata": {},
   "source": [
    "##### del()"
   ]
  },
  {
   "cell_type": "code",
   "execution_count": 1,
   "metadata": {},
   "outputs": [],
   "source": [
    "# index to be removed, not valued\n",
    "# this can cause indexing errors\n",
    "names = ['bob', 'billy', 'bob', 'bob', 'berry', 'bertha', 'bob', 'bert']\n",
    "del(names[0])\n"
   ]
  },
  {
   "cell_type": "markdown",
   "metadata": {},
   "source": [
    "##### min()"
   ]
  },
  {
   "cell_type": "code",
   "execution_count": 4,
   "metadata": {},
   "outputs": [
    {
     "name": "stdout",
     "output_type": "stream",
     "text": [
      "1\n",
      "beyonce\n"
     ]
    }
   ],
   "source": [
    "#returns the smallest item in a list\n",
    "numbers = [1,2,3,4,56]\n",
    "print(min(numbers))\n",
    "\n",
    "names = ['jack', 'jill', 'chad', 'huckleberry', 'beyonce' ]\n",
    "print(min(names))"
   ]
  },
  {
   "cell_type": "code",
   "execution_count": 5,
   "metadata": {},
   "outputs": [
    {
     "name": "stdout",
     "output_type": "stream",
     "text": [
      "1\n",
      "alfonso\n"
     ]
    }
   ],
   "source": [
    "#returns the smallest item in a list\n",
    "numbers = [1,2,3,4,56]\n",
    "print(min(numbers))\n",
    "\n",
    "names = ['alfonso', 'gilbert', 'chad', 'zorph', 'aname' ]\n",
    "print(min(names))"
   ]
  },
  {
   "cell_type": "markdown",
   "metadata": {},
   "source": [
    "##### max()"
   ]
  },
  {
   "cell_type": "code",
   "execution_count": 6,
   "metadata": {},
   "outputs": [
    {
     "name": "stdout",
     "output_type": "stream",
     "text": [
      "100000001\n",
      "zorph\n"
     ]
    }
   ],
   "source": [
    "##returns the largest item in a list\n",
    "numbers = [23, 45, 63, 12, 43, 100000001]\n",
    "print(max(numbers))\n",
    "\n",
    "names = ['alfonso', 'gilbert', 'chad', 'zorph', 'aname' ]\n",
    "print(max(names))"
   ]
  },
  {
   "cell_type": "code",
   "execution_count": null,
   "metadata": {},
   "outputs": [],
   "source": []
  },
  {
   "cell_type": "markdown",
   "metadata": {},
   "source": [
    "##### sum()"
   ]
  },
  {
   "cell_type": "code",
   "execution_count": 8,
   "metadata": {},
   "outputs": [
    {
     "name": "stdout",
     "output_type": "stream",
     "text": [
      "66\n"
     ]
    }
   ],
   "source": [
    "# returns the sum of all numbers in a list\n",
    "\n",
    "numbers = [1,2,3,4,56]\n",
    "\n",
    "print(sum(numbers))"
   ]
  },
  {
   "cell_type": "markdown",
   "metadata": {},
   "source": [
    "##### sorted()"
   ]
  },
  {
   "cell_type": "code",
   "execution_count": 9,
   "metadata": {},
   "outputs": [
    {
     "name": "stdout",
     "output_type": "stream",
     "text": [
      "[1, 3, 5, 6, 9, 12, 17, 20]\n"
     ]
    }
   ],
   "source": [
    "numbers = [5,1,17,12,9,6,20,3]\n",
    "\n",
    "sorted_nums = sorted(numbers)\n",
    "print(sorted_nums)"
   ]
  },
  {
   "cell_type": "markdown",
   "metadata": {},
   "source": [
    "##### .sort() <br>\n",
    "<p>Difference between sort and sorted, is that sorted doesn't change original list it returns a copy, while .sort changes the original list</p>"
   ]
  },
  {
   "cell_type": "code",
   "execution_count": 10,
   "metadata": {},
   "outputs": [
    {
     "name": "stdout",
     "output_type": "stream",
     "text": [
      "[1, 3, 5, 6, 9, 12, 17, 20]\n"
     ]
    }
   ],
   "source": [
    "numbers.sort()\n",
    "print(numbers)"
   ]
  },
  {
   "cell_type": "markdown",
   "metadata": {},
   "source": [
    "##### Copying a List"
   ]
  },
  {
   "cell_type": "code",
   "execution_count": 11,
   "metadata": {},
   "outputs": [
    {
     "name": "stdout",
     "output_type": "stream",
     "text": [
      "[3, 6, 1, 5, 10, -12]\n",
      "[3, 6, 1, 5, 10, -12]\n"
     ]
    }
   ],
   "source": [
    "# [:] copy a list, doesnt alter the original list\n",
    "numbers = [3,6,1,5,10,-12]\n",
    "print(numbers)\n",
    "new_list = numbers [:]\n",
    "print(new_list)\n",
    "\n"
   ]
  },
  {
   "cell_type": "code",
   "execution_count": 13,
   "metadata": {
    "scrolled": true
   },
   "outputs": [
    {
     "name": "stdout",
     "output_type": "stream",
     "text": [
      "[3, 6, 1, 5, 10, -12]\n",
      "[3, 6, 1, 5, 10, -12]\n"
     ]
    },
    {
     "ename": "NameError",
     "evalue": "name 'num2' is not defined",
     "output_type": "error",
     "traceback": [
      "\u001b[1;31m---------------------------------------------------------------------------\u001b[0m",
      "\u001b[1;31mNameError\u001b[0m                                 Traceback (most recent call last)",
      "Cell \u001b[1;32mIn[13], line 11\u001b[0m\n\u001b[0;32m      7\u001b[0m \u001b[38;5;28mprint\u001b[39m(another_list)\n\u001b[0;32m      9\u001b[0m num1 \u001b[38;5;241m=\u001b[39m \u001b[38;5;241m15\u001b[39m\n\u001b[1;32m---> 11\u001b[0m num1 \u001b[38;5;241m=\u001b[39m \u001b[43mnum2\u001b[49m\n",
      "\u001b[1;31mNameError\u001b[0m: name 'num2' is not defined"
     ]
    }
   ],
   "source": [
    "another_list = []\n",
    "\n",
    "for num in numbers:\n",
    "    another_list.append(num)\n",
    "    \n",
    "print(numbers)\n",
    "print(another_list)\n",
    "\n",
    "num1 = 15\n",
    "\n",
    "num1 = num2"
   ]
  },
  {
   "cell_type": "code",
   "execution_count": 1,
   "metadata": {},
   "outputs": [
    {
     "ename": "SyntaxError",
     "evalue": "invalid syntax (479058777.py, line 1)",
     "output_type": "error",
     "traceback": [
      "\u001b[1;36m  Cell \u001b[1;32mIn[1], line 1\u001b[1;36m\u001b[0m\n\u001b[1;33m    my_ string = 'cool beans'\u001b[0m\n\u001b[1;37m        ^\u001b[0m\n\u001b[1;31mSyntaxError\u001b[0m\u001b[1;31m:\u001b[0m invalid syntax\n"
     ]
    }
   ],
   "source": [
    "my_ string = 'cool beans'\n",
    "\n",
    "new_string = my_string[:]\n",
    "\n",
    "print(new_string)\n"
   ]
  },
  {
   "cell_type": "markdown",
   "metadata": {},
   "source": [
    "##### Looping Through Lists"
   ]
  },
  {
   "cell_type": "code",
   "execution_count": 3,
   "metadata": {},
   "outputs": [
    {
     "name": "stdout",
     "output_type": "stream",
     "text": [
      "han solo\n",
      "leia organa\n",
      "luke skywalker\n",
      "lando calrissian\n",
      "mace windu\n",
      "\n",
      "\n",
      "han solo\n",
      "\n",
      "\n",
      "han solo\n",
      "leia organa\n",
      "luke skywalker\n",
      "lando calrissian\n",
      "mace windu\n",
      "\n",
      "\n",
      "leia organa\n"
     ]
    }
   ],
   "source": [
    "#Looping by value\n",
    "names = ['han solo', 'leia organa', 'luke skywalker', 'lando calrissian', 'mace windu']\n",
    "for name in names:\n",
    "    print(name)\n",
    "print(\"\\n\")\n",
    "for name in names:\n",
    "    if name == \"han solo\":\n",
    "        print(name)\n",
    "print(\"\\n\")\n",
    "#looping by index\n",
    "for i in range (len(names)):\n",
    "    print(names[i])\n",
    "    \n",
    "print(\"\\n\")\n",
    "\n",
    "for i in range(len(names)):\n",
    "    if names[i] == \"leia organa\":\n",
    "        print(names[i])\n",
    "        \n",
    "#enumerate\n",
    "for i, v in enumerate(names):\n",
    "    print(i,v)\n",
    "    \n",
    "print(\"\\n\")\n",
    "\n",
    "for i, v in enumerate(names):\n",
    "    if v == \"mace windu\""
   ]
  },
  {
   "cell_type": "markdown",
   "metadata": {},
   "source": [
    "##### 'in' keyword"
   ]
  },
  {
   "cell_type": "code",
   "execution_count": 5,
   "metadata": {},
   "outputs": [
    {
     "name": "stdout",
     "output_type": "stream",
     "text": [
      "Ranger\n"
     ]
    }
   ],
   "source": [
    "#specifying list that we are iterating through\n",
    "names = [\"Alex\", \"Abdel\", \"Swan\", \"Ethan\", \"Hyun-Tae]\" ]\n",
    "if \"Ethan\" in names:\n",
    "    print(\"Ranger\")\n",
    "else:\n",
    "    print(\"not a ranger\")"
   ]
  },
  {
   "cell_type": "code",
   "execution_count": 87,
   "metadata": {},
   "outputs": [
    {
     "name": "stdout",
     "output_type": "stream",
     "text": [
      "nope\n",
      "nope\n",
      "Tenzin\n",
      "nope\n",
      "nope\n",
      "nope\n"
     ]
    }
   ],
   "source": []
  },
  {
   "cell_type": "code",
   "execution_count": 91,
   "metadata": {},
   "outputs": [
    {
     "ename": "IndentationError",
     "evalue": "expected an indented block (2703666223.py, line 3)",
     "output_type": "error",
     "traceback": [
      "\u001b[1;36m  Input \u001b[1;32mIn [91]\u001b[1;36m\u001b[0m\n\u001b[1;33m    #         print(names[i][j])\u001b[0m\n\u001b[1;37m                                ^\u001b[0m\n\u001b[1;31mIndentationError\u001b[0m\u001b[1;31m:\u001b[0m expected an indented block\n"
     ]
    }
   ],
   "source": []
  },
  {
   "cell_type": "code",
   "execution_count": null,
   "metadata": {},
   "outputs": [],
   "source": []
  },
  {
   "cell_type": "markdown",
   "metadata": {},
   "source": [
    "##### 'not in' keyword"
   ]
  },
  {
   "cell_type": "code",
   "execution_count": 6,
   "metadata": {},
   "outputs": [
    {
     "name": "stdout",
     "output_type": "stream",
     "text": [
      "boooo not a Ranger\n"
     ]
    }
   ],
   "source": [
    "names = [\"Alex\", \"Abdel\", \"Swan\", \"Ethan\", \"Hyun-Tae]\" ]\n",
    "if \"Frederick\" not in names:\n",
    "    print(\"boooo not a Ranger\")\n",
    "else:\n",
    "    print(\"great job being a ranger, frederick\")"
   ]
  },
  {
   "cell_type": "markdown",
   "metadata": {},
   "source": [
    "##### Checking an Empty List"
   ]
  },
  {
   "cell_type": "code",
   "execution_count": 7,
   "metadata": {},
   "outputs": [
    {
     "name": "stdout",
     "output_type": "stream",
     "text": [
      "welp thats empty\n"
     ]
    }
   ],
   "source": [
    "our_list = []\n",
    "\n",
    "if our_list == []:\n",
    "    print(\"welp thats empty\")\n",
    "else:\n",
    "    print(\"there is stuff in there\")"
   ]
  },
  {
   "cell_type": "markdown",
   "metadata": {},
   "source": [
    "##### Removing Instances with a Loop"
   ]
  },
  {
   "cell_type": "code",
   "execution_count": 8,
   "metadata": {},
   "outputs": [
    {
     "name": "stdout",
     "output_type": "stream",
     "text": [
      "['Abdel', 'Swan', 'Ethan', 'Hyun-Tae]']\n"
     ]
    }
   ],
   "source": [
    "names = [\"Alex\", \"Abdel\", \"Swan\", \"Ethan\", \"Hyun-Tae]\" ]\n",
    "\n",
    "while \"Alex\" in names:\n",
    "    names.remove('Alex')\n",
    "    \n",
    "print(names)"
   ]
  },
  {
   "cell_type": "markdown",
   "metadata": {},
   "source": [
    "### List Exercise <br>\n",
    "<p>Remove all duplicates<br><b>Extra: Create a program that will remove any duplicates from a given list</b></p>"
   ]
  },
  {
   "cell_type": "code",
   "execution_count": 11,
   "metadata": {},
   "outputs": [
    {
     "name": "stdout",
     "output_type": "stream",
     "text": [
      "['connor', 'bob', 'evan', 'max', 2, 3, 4, 'kevin']\n"
     ]
    }
   ],
   "source": [
    "names = ['connor', 'connor', 'bob', 'connor', 'evan', 'max', 'evan', 2, 2, 2, 3, 3, 4, 'bob', 'kevin']\n",
    "\n",
    "cleaned_list = []\n",
    "\n",
    "for name in names:\n",
    "    if name not in cleaned_list:\n",
    "        cleaned_list.append(name)\n",
    "        \n",
    "print(cleaned_list)"
   ]
  },
  {
   "cell_type": "markdown",
   "metadata": {},
   "source": [
    "### List Comprehensions <br>\n",
    "<p>Creating a quickly generated list to work with<br>*result*  = [*transform*    *iteration*         *filter*     ]</p>"
   ]
  },
  {
   "cell_type": "markdown",
   "metadata": {},
   "source": [
    "##### In a list comprehension we have a few pieces:\n",
    "1. The first is the counter/ variable - IN this the variable is x\n",
    "2. then we have a transform for the variable\n",
    "3. The finale part of a list comp is called the condition\n",
    "\n",
    "```python\n",
    "    [transform, iteration/variable, condition]\n",
    "```"
   ]
  },
  {
   "cell_type": "code",
   "execution_count": 12,
   "metadata": {
    "scrolled": true
   },
   "outputs": [
    {
     "name": "stdout",
     "output_type": "stream",
     "text": [
      "[4, 16, 36, 64, 100]\n",
      "[4, 16, 36, 64, 100]\n"
     ]
    }
   ],
   "source": [
    "nums = [2,4,6,8,10]\n",
    "nums_squared = []\n",
    "\n",
    "#for loop way\n",
    "for num in nums:\n",
    "    nums_squared.append(num**2)\n",
    "print(nums_squared)\n",
    "\n",
    "#list comprehension way\n",
    "num_squared = [num**2 for num in nums]\n",
    "print(num_squared)"
   ]
  },
  {
   "cell_type": "code",
   "execution_count": 14,
   "metadata": {},
   "outputs": [
    {
     "name": "stdout",
     "output_type": "stream",
     "text": [
      "[4, 16, 36, 64, 100, 9, 25, 49, 81, 121]\n",
      "[4, 16, 36, 64, 100, 9, 25, 49, 81, 121]\n",
      "[4, 16, 36, 64, 100]\n"
     ]
    }
   ],
   "source": [
    "nums = [2,4,6,8,10,3,5,7,9,11]\n",
    "nums_squared = []\n",
    "\n",
    "#for loop way\n",
    "for num in nums:\n",
    "    nums_squared.append(num**2)\n",
    "print(nums_squared)\n",
    "\n",
    "#list comprehension way\n",
    "num_squared = [num**2 for num in nums]\n",
    "print(num_squared)\n",
    "\n",
    "#list comprehension with conditional\n",
    "more_squared = [num**2 for num in nums if num%2 ==0]\n",
    "print(more_squared)"
   ]
  },
  {
   "cell_type": "markdown",
   "metadata": {},
   "source": [
    "There are a few benefits to using List comprehensions. The most obvious would be that we now have shorter code to work with instead of using 3+ lines of code in the for loop variant.\n",
    "\n",
    "Another is an added benefit to memory usage. Since the list's memory is allocated first before adding elements to it, we don't have to resize the list once we add elements to it.\n",
    "\n",
    "Lastly, list comprehensions are considered the \"pythonic\" way to write code by the PEP8 standards (Python Style Guide)"
   ]
  },
  {
   "cell_type": "code",
   "execution_count": 15,
   "metadata": {},
   "outputs": [
    {
     "name": "stdout",
     "output_type": "stream",
     "text": [
      "['e', 'e', 'h', 'l', 'e', 'a', 'j', 'k', 'p', 'p']\n"
     ]
    }
   ],
   "source": [
    "pets = [ 'elliot', 'eyo', 'henri', 'luci', 'eyeball', 'astro', 'jimmy', 'kino', 'pi', 'penny']\n",
    "\n",
    "letter_names = [name [0] for name in pets if name[0] != '0']\n",
    "\n",
    "print(letter_names)"
   ]
  },
  {
   "cell_type": "code",
   "execution_count": null,
   "metadata": {},
   "outputs": [],
   "source": [
    ">>> import this\n",
    "\n",
    "The Zen of Python, by Tim Peters\n",
    "\n",
    "Beautiful is better than ugly.\n",
    "Explicit is better than implicit.\n",
    "Simple is better than complex.\n",
    "Complex is better than complicated.\n",
    "Flat is better than nested.\n",
    "Sparse is better than dense.\n",
    "Readability counts.\n",
    "Special cases aren't special enough to break the rules.\n",
    "Although practicality beats purity.\n",
    "Errors should never pass silently.\n",
    "Unless explicitly silenced.\n",
    "In the face of ambiguity, refuse the temptation to guess.\n",
    "There should be one-- and preferably only one --obvious way to do it.\n",
    "Although that way may not be obvious at first unless you're Dutch.\n",
    "Now is better than never.\n",
    "Although never is often better than *right* now.\n",
    "If the implementation is hard to explain, it's a bad idea.\n",
    "If the implementation is easy to explain, it may be a good idea.\n",
    "Namespaces are one honking great idea -- let's do more of those!"
   ]
  },
  {
   "cell_type": "markdown",
   "metadata": {},
   "source": [
    "### Tuples <br>\n",
    "<p><b>Defined as an immutable list</b></p><br>Seperated by commas using parenthesis"
   ]
  },
  {
   "cell_type": "code",
   "execution_count": 21,
   "metadata": {},
   "outputs": [
    {
     "name": "stdout",
     "output_type": "stream",
     "text": [
      "(1, 2, 3)\n",
      "(4, 5, 6)\n",
      "<class 'tuple'>\n",
      "1\n",
      "5\n",
      "tuple length 3\n",
      "1\n",
      "2\n",
      "3\n",
      "4\n",
      "5\n",
      "6\n"
     ]
    }
   ],
   "source": [
    "#declaring tuples\n",
    "tup_1 = (1,2,3)\n",
    "tup_2 = 4,5,6\n",
    "\n",
    "print(tup_1)\n",
    "print(tup_2)\n",
    "\n",
    "print(type(tup_1))\n",
    "\n",
    "#indexing into a tuple\n",
    "print(tup_1[0])\n",
    "print(tup_2[1])\n",
    "\n",
    "#length of a tuple\n",
    "print(\"tuple length\", len(tup_2))\n",
    "\n",
    "#iterating through a tuple\n",
    "for num in tup_1:\n",
    "    print(num)\n",
    "    \n",
    "for i in range(len(tup_2)):\n",
    "    print(tup_2[i])"
   ]
  },
  {
   "cell_type": "markdown",
   "metadata": {},
   "source": [
    "##### sorted()"
   ]
  },
  {
   "cell_type": "code",
   "execution_count": 26,
   "metadata": {},
   "outputs": [
    {
     "name": "stdout",
     "output_type": "stream",
     "text": [
      "[1, 5, 10, 20, 95, 123]\n",
      "(1, 5, 10, 20, 95, 123)\n",
      "(5, 12, 654, 234, 65, 12)\n",
      "(20, 5, 1, 10, 95, 123, 5, 12, 654, 234, 65, 12)\n"
     ]
    }
   ],
   "source": [
    "tup = (20,5,1,10,95,123)\n",
    "print(sorted(tup))\n",
    "\n",
    "print(tuple(sorted(tup)))\n",
    "\n",
    "some_list = [5,12,654,234,65,12]\n",
    "\n",
    "#combine_list = some_list + tup\n",
    "\n",
    "new_tup = tuple(some_list)\n",
    "print(new_tup)\n",
    "\n",
    "new_new_tup = tup + new_tup\n",
    "print(new_new_tup)"
   ]
  },
  {
   "cell_type": "code",
   "execution_count": 142,
   "metadata": {},
   "outputs": [
    {
     "name": "stdout",
     "output_type": "stream",
     "text": [
      "[1, 5, 10, 20, 95, 123]\n",
      "(5, 12, 654, 234, 7643, 34, 20, 5, 1, 10, 95, 123)\n"
     ]
    }
   ],
   "source": [
    "tup = (20, 5, 1, 10, 95, 123)\n",
    "\n",
    "print(sorted(tup))\n",
    "\n",
    "some_list = [5, 12, 654, 234, 7643, 34]\n",
    "\n",
    "# combine_list = some_list + tup\n",
    "\n",
    "new_tup = tuple(some_list)\n",
    "\n",
    "new_new_tup = new_tup + tup\n",
    "print(new_new_tup)\n",
    "\n",
    "\n"
   ]
  },
  {
   "cell_type": "code",
   "execution_count": 149,
   "metadata": {},
   "outputs": [
    {
     "name": "stdout",
     "output_type": "stream",
     "text": [
      "[1, 2, 3, 4, 5, 2, 3, 4, 5, 13, 12, 16, 1234]\n"
     ]
    }
   ],
   "source": [
    "# List Concatenation\n",
    "\n",
    "my_list = [1, 2, 3, 4, 5]\n",
    "my_list2 = [2, 3, 4, 5, 13, 12, 16, 1234]\n",
    "\n",
    "my_list3 = my_list + my_list2\n",
    "\n",
    "print(my_list3)"
   ]
  },
  {
   "cell_type": "markdown",
   "metadata": {},
   "source": [
    "##### Adding values to a Tuple"
   ]
  },
  {
   "cell_type": "code",
   "execution_count": 23,
   "metadata": {},
   "outputs": [
    {
     "name": "stdout",
     "output_type": "stream",
     "text": [
      "(20, 54, 60, 23, 11)\n",
      "()\n",
      "(20, 54, 60, 23, 11, 6)\n"
     ]
    }
   ],
   "source": [
    "tup = (20, 54, 60, 23, 11)\n",
    "print(tup)\n",
    "my_tup = tuple()\n",
    "print(my_tup)\n",
    "#help(tuple)\n",
    "\n",
    "tup = tup + (6,)\n",
    "\n",
    "print(tup)"
   ]
  },
  {
   "cell_type": "markdown",
   "metadata": {},
   "source": [
    "# Exercises"
   ]
  },
  {
   "cell_type": "markdown",
   "metadata": {},
   "source": [
    "## Exercise 1 <br>\n",
    "<p>Using the given list, print out a filtered version of the list with only the numbers that are less than ten</b></i></p><br>\n"
   ]
  },
  {
   "cell_type": "code",
   "execution_count": 28,
   "metadata": {},
   "outputs": [
    {
     "name": "stdout",
     "output_type": "stream",
     "text": [
      "[1, 5, 8, 9]\n"
     ]
    }
   ],
   "source": [
    "#Given that list of #s < 10\n",
    "\n",
    "\n",
    "alist = [1,11,14,5,8,9]\n",
    "#------------------------------\n",
    "numbers = [1,11,14,5,8,9]\n",
    "\n",
    "filtered_numbers = [num for num in numbers if num < 10]\n",
    "\n",
    "print(filtered_numbers)\n",
    "\n",
    "\n"
   ]
  },
  {
   "cell_type": "markdown",
   "metadata": {},
   "source": [
    "## Exercise 2 <br>\n",
    "<p>Merge and sort the two lists below<br>\n",
    "<b><i>Hint: You can use the .sort() method</i></b></p>"
   ]
  },
  {
   "cell_type": "code",
   "execution_count": 29,
   "metadata": {},
   "outputs": [
    {
     "name": "stdout",
     "output_type": "stream",
     "text": [
      "[1, 2, 3, 3, 4, 4, 5, 5, 6, 6, 7, 8, 10]\n"
     ]
    }
   ],
   "source": [
    "#Given that #s listed are between 1-10\n",
    "#merge two lists given\n",
    "#sort merged list\n",
    "#Sort Method\n",
    "\n",
    "l_1 = [1,2,3,4,5,6]\n",
    "l_2 = [3,4,5,6,7,8,10]\n",
    "\n",
    "merged_list = l_1 + l_2 \n",
    "merged_list.sort()  \n",
    "\n",
    "print(merged_list)\n",
    "\n"
   ]
  },
  {
   "cell_type": "markdown",
   "metadata": {},
   "source": [
    "## Exercise 3 <br>\n",
    "<p>Square every number from 1 to 15<br>\n"
   ]
  },
  {
   "cell_type": "code",
   "execution_count": 31,
   "metadata": {},
   "outputs": [
    {
     "name": "stdout",
     "output_type": "stream",
     "text": [
      "[1, 4, 9, 16, 25, 36, 49, 64, 81, 100, 121, 144, 169, 196, 225]\n"
     ]
    }
   ],
   "source": [
    "#Given that total numbers square does not ** '16', 15\n",
    "\n",
    "squares = [num**2 for num in range(1, 16)]\n",
    "\n",
    "print(squares)\n"
   ]
  },
  {
   "cell_type": "markdown",
   "metadata": {},
   "source": [
    "## Exercise 4<br>\n",
    "<p>Using List Comprehension and the given list, print out a filtered list with \n",
    "only the names that start with the letter 'a'. \n",
    "The names in the outputted list should be title cased and have no whitespace.<br>\n"
   ]
  },
  {
   "cell_type": "code",
   "execution_count": 33,
   "metadata": {},
   "outputs": [
    {
     "name": "stdout",
     "output_type": "stream",
     "text": [
      "['Amy', 'Alex']\n"
     ]
    }
   ],
   "source": [
    "#Given that the given names are title cased and end with no whitespaces in outcome\n",
    "names_list = ['   amy', 'Briant', 'Ryan ', ' Alex', 'steve', '  ']\n",
    "#expected output = ['Amy', 'Alex']\n",
    "#------------------------------------------------------------------\n",
    "\n",
    "names = ['   amy', 'Briant', 'Ryan ', ' Alex', 'steve', '  ']\n",
    "\n",
    "names_filtered = [name.strip().title() for name in names if name.strip().lower().startswith('a')]\n",
    "\n",
    "print(names_filtered)\n"
   ]
  },
  {
   "cell_type": "markdown",
   "metadata": {},
   "source": [
    "## Exercise 5 <br>\n",
    "<p>Print all Prime numbers from 1 to 100<br>\n"
   ]
  },
  {
   "cell_type": "code",
   "execution_count": 36,
   "metadata": {},
   "outputs": [
    {
     "name": "stdout",
     "output_type": "stream",
     "text": [
      "2,3,5,7,11,13,17,19,23,29,31,37,41,43,47,53,59,61,67,71,73,79,83,89,97,"
     ]
    }
   ],
   "source": [
    "# Given that range does not include 1 and 101 \n",
    "# prime number def - a whole number greater than 1 that cannot be exactly divided by any whole number other than itself and 1 (e.g. 2, 3, 5, 7, 11    \n",
    "# only 1 to 100 is counted\n",
    " \n",
    "for i in range(2,101): \n",
    "    for j in range(2,101):\n",
    "        if i%j == 0:\n",
    "            break\n",
    "    if i == j:\n",
    "        print(i,end=\",\")"
   ]
  }
 ],
 "metadata": {
  "kernelspec": {
   "display_name": "Python 3 (ipykernel)",
   "language": "python",
   "name": "python3"
  },
  "language_info": {
   "codemirror_mode": {
    "name": "ipython",
    "version": 3
   },
   "file_extension": ".py",
   "mimetype": "text/x-python",
   "name": "python",
   "nbconvert_exporter": "python",
   "pygments_lexer": "ipython3",
   "version": "3.11.2"
  }
 },
 "nbformat": 4,
 "nbformat_minor": 2
}
